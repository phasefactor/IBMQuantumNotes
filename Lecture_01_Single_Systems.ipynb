{
  "nbformat": 4,
  "nbformat_minor": 0,
  "metadata": {
    "colab": {
      "provenance": [],
      "toc_visible": true,
      "authorship_tag": "ABX9TyMtdACBdMMiyFmWg7kFawgH"
    },
    "kernelspec": {
      "name": "python3",
      "display_name": "Python 3"
    },
    "language_info": {
      "name": "python"
    }
  },
  "cells": [
    {
      "cell_type": "markdown",
      "source": [
        "# Classical Information\n",
        "\n",
        "The mathematical descriptions of classical and quantum information are quite similar."
      ],
      "metadata": {
        "id": "ltOZvvO-QNub"
      }
    },
    {
      "cell_type": "markdown",
      "source": [
        "## Classical States\n",
        "\n",
        "A **system** is *an abstraction of a physical device or a medium that stores information*.\n",
        "\n",
        "A system can be in one of a *finite number* of classical states at any instant.\n",
        "\n",
        "A **classical state** is *a configuration that can be recognized and described unambiguously*.\n",
        "\n",
        "Examples of systems and their set of classical states:\n",
        "- A **bit** is *a system that only has the classical states $0$ and $1$*.\n",
        "- A six-sided die has classical states $1$, $2$, $3$, $4$, $5$, and $6$.\n",
        "- An electric fan has classical states high, medium, low, and off.\n",
        "\n",
        "The generic notation to label system(s) is $\\mathsf{X}$, $\\mathsf{Y}$, $\\mathsf{Z}$, etc.  The symbol $\\Sigma$ represents the *finite and non-empty* set of classical states of the system. For example:\n",
        "- If $\\mathsf{X}$ is a bit, then $\\Sigma = \\{0, 1\\}$.\n",
        "- If $\\mathsf{X}$ is a six-sided die, then $\\Sigma = \\{1,2,3,4,5,6 \\}$.\n",
        "- if $\\mathsf{X}$ is an electric fan, then $\\Sigma = \\{ \\text{high, medium, low, off} \\}$.\n",
        "\n",
        "The system $\\mathsf X$ becomes a carrier of information if each of its states is assigned a meaning."
      ],
      "metadata": {
        "id": "daCJ4IwIQvLj"
      }
    },
    {
      "cell_type": "markdown",
      "source": [
        "## Probability Vectors\n",
        "\n",
        "There may be uncertainty about the state of $\\mathsf X$.\n",
        "\n",
        "This results in a **probabilistic state**, where each of the possible classical states of $\\mathsf X$ is assigned probability of being the current state.  \n",
        "\n",
        "The sum of the probabilities for all possible states of the system must equal $1$.\n",
        "\n",
        "For example, a bit $\\mathsf X$ might be in the classical state $0$ with probability $3/4$ and in the state $1$ with probability $1/4$.  This may be written as:\n",
        "\n",
        "$$ \\Pr(\\mathsf X = 0) = \\frac 3 4, \\quad \\Pr(\\mathsf X = 1) = \\frac 1 4$$\n",
        "\n",
        "It is more succinct and computationally useful to represent this as a column vector:\n",
        "\n",
        "$$ \\begin{pmatrix} \\frac{3}{4}\\\\[2mm] \\frac{1}{4} \\end{pmatrix} $$\n",
        "\n",
        "This is a **probability vector**.  Probability vectors satisfy two properties:\n",
        "1. All elements of the vector are non-negative real numbers.\n",
        "2. The sum of all elements of the vector is equal to $1$.\n",
        "\n",
        "Representing probabilistic states as column vectors has the advantage that operations on the system can be represented as matrix–vector multiplication."
      ],
      "metadata": {
        "id": "ZjDlrRODUxvp"
      }
    },
    {
      "cell_type": "markdown",
      "source": [
        "## Measuring Probabilistic States\n",
        "\n",
        "**Measuring a system** is *looking at the system and unambiguously recognize whatever classical state it is in*.\n",
        "\n",
        "This implies that a probabilistic state can never be seen, since measuring it will identify exactly which of the possible states the system is in.\n",
        "\n",
        "Measurement changes our knowledge of the system, and therefore changes the probabilistic state that we associate with that system.\n",
        "\n",
        "If $\\mathsf X$ is in a probabilistic state and we measure it to be in classical state $ a \\in \\Sigma $, then the classical state of $\\mathsf X$ is represented by a new probability vector with all $0$ elements except for a $1$ in the element representing state $a$.  This vector represents certainty that the state is in state $a$.\n",
        "\n",
        "Vectors of this type, representing certainty that a system is in state $a$, $b$, etc are denoted by $\\vert a \\rangle$"
      ],
      "metadata": {
        "id": "__SOOdCkgDMs"
      }
    },
    {
      "cell_type": "markdown",
      "source": [
        "# Quantum information"
      ],
      "metadata": {
        "id": "_Dgc3pVWQPyL"
      }
    },
    {
      "cell_type": "markdown",
      "source": [
        "# Qiskit examples"
      ],
      "metadata": {
        "id": "b6LjXWq_QV-C"
      }
    }
  ]
}